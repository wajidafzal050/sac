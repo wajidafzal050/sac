{
 "cells": [
  {
   "cell_type": "code",
   "execution_count": 3,
   "id": "14b013fa",
   "metadata": {},
   "outputs": [
    {
     "name": "stdout",
     "output_type": "stream",
     "text": [
      "[10, 20, 30, 40, 50, 60] <class 'list'>\n",
      "content of ndo [10 20 30 40 50 60]\n",
      "type of ndo <class 'numpy.ndarray'>\n",
      "dtype od ndo int32\n",
      "Dimension 1\n",
      "shape (6,)\n",
      "size 6\n"
     ]
    }
   ],
   "source": [
    "import numpy as np\n",
    "lst=[10,20,30,40,50,60]\n",
    "print(lst,type(lst))\n",
    "ndo=np.array(lst)\n",
    "print(\"content of ndo\",ndo)\n",
    "print(\"type of ndo\",type(ndo))\n",
    "print(\"dtype od ndo\",ndo.dtype)\n",
    "print(\"Dimension\",ndo.ndim)\n",
    "print(\"shape\",ndo.shape)\n",
    "print(\"size\",ndo.size)"
   ]
  },
  {
   "cell_type": "code",
   "execution_count": 3,
   "id": "2d43f845",
   "metadata": {},
   "outputs": [
    {
     "name": "stdout",
     "output_type": "stream",
     "text": [
      "[10, 20, 30, 40, 50, 60] <class 'list'>\n",
      "content of ndo [10 20 30 40 50 60]\n",
      "type of ndo <class 'numpy.ndarray'>\n",
      "dtype od ndo int32\n",
      "Dimension 1\n",
      "shape (6,)\n",
      "size 6\n"
     ]
    }
   ],
   "source": [
    "import numpy as np\n",
    "lst=[10,20,30,40,50,60]\n",
    "print(lst,type(lst))\n",
    "ndo=np.array(lst)\n",
    "print(\"content of ndo\",ndo)\n",
    "print(\"type of ndo\",type(ndo))\n",
    "print(\"dtype od ndo\",ndo.dtype)\n",
    "print(\"Dimension\",ndo.ndim)\n",
    "print(\"shape\",ndo.shape)\n",
    "print(\"size\",ndo.size)"
   ]
  },
  {
   "cell_type": "code",
   "execution_count": 4,
   "id": "0def11b1",
   "metadata": {},
   "outputs": [
    {
     "name": "stdout",
     "output_type": "stream",
     "text": [
      "[[10, 20], [30, 40], [50, 60]] <class 'list'>\n",
      "[[10 20]\n",
      " [30 40]\n",
      " [50 60]]\n"
     ]
    }
   ],
   "source": [
    "import numpy as np\n",
    "lst=[[10,20],[30,40],[50,60]]\n",
    "print(lst,type(lst))\n",
    "ndo=np.array(lst)\n",
    "print(ndo)"
   ]
  },
  {
   "cell_type": "code",
   "execution_count": 6,
   "id": "24699d15",
   "metadata": {},
   "outputs": [
    {
     "name": "stdout",
     "output_type": "stream",
     "text": [
      "[2 3 4 5 6]\n"
     ]
    }
   ],
   "source": [
    "#vector based operation\n",
    "import numpy as np\n",
    "lst=[1,2,3,4,5]\n",
    "#list=lst+1//type error\n",
    "ndo=np.array(lst)\n",
    "result=ndo+1\n",
    "print(result)"
   ]
  },
  {
   "cell_type": "code",
   "execution_count": 12,
   "id": "409c6a87",
   "metadata": {},
   "outputs": [
    {
     "name": "stdout",
     "output_type": "stream",
     "text": [
      "[ 1  2  3  4  5  6  7  8  9 10 11 12]\n",
      "Type <class 'numpy.ndarray'>\n",
      "dimension 1\n",
      "Dtype int32\n",
      "shape (12,)\n",
      "size 12\n",
      "*************************\n",
      "2D\n",
      "[[ 1  2  3  4]\n",
      " [ 5  6  7  8]\n",
      " [ 9 10 11 12]]\n",
      "Type <class 'numpy.ndarray'>\n",
      "dimension 2\n",
      "Dtype int32\n",
      "shape (3, 4)\n",
      "size 12\n",
      "*************************\n",
      "2D\n"
     ]
    }
   ],
   "source": [
    "#reshape()\n",
    "import numpy as np\n",
    "lst=[1,2,3,4,5,6,7,8,9,10,11,12]\n",
    "ndo=np.array(lst)\n",
    "print(ndo)\n",
    "print(\"Type\",type(ndo))\n",
    "print(\"dimension\",ndo.ndim)\n",
    "print(\"Dtype\",ndo.dtype)\n",
    "print(\"shape\",ndo.shape)\n",
    "print(\"size\",ndo.size)\n",
    "print(\"*\"*25)\n",
    "print(\"2D\")\n",
    "ndo=ndo.reshape(3,4)\n",
    "print(ndo)\n",
    "print(\"Type\",type(ndo))\n",
    "print(\"dimension\",ndo.ndim)\n",
    "print(\"Dtype\",ndo.dtype)\n",
    "print(\"shape\",ndo.shape)\n",
    "print(\"size\",ndo.size)\n",
    "print(\"*\"*25)\n",
    "print(\"2D\")"
   ]
  },
  {
   "cell_type": "code",
   "execution_count": 13,
   "id": "bc42195e",
   "metadata": {},
   "outputs": [
    {
     "name": "stdout",
     "output_type": "stream",
     "text": [
      "[[ 0  1  2]\n",
      " [ 3  4  5]\n",
      " [ 6  7  8]\n",
      " [ 9 10 11]]\n",
      "Type <class 'numpy.ndarray'>\n",
      "Dimension 2\n",
      "Dtype int32\n",
      "shape (4, 3)\n",
      "size 12\n"
     ]
    }
   ],
   "source": [
    "#create nd array obeject using arange()\n",
    "import numpy as np\n",
    "ndo=np.arange(12)\n",
    "ndo=ndo.reshape(4,3)\n",
    "print (ndo)\n",
    "print(\"Type\",type(ndo))\n",
    "print(\"Dimension\",ndo.ndim)\n",
    "print(\"Dtype\",ndo.dtype)\n",
    "print(\"shape\",ndo.shape)\n",
    "print(\"size\",ndo.size)"
   ]
  },
  {
   "cell_type": "code",
   "execution_count": 15,
   "id": "d7230e4c",
   "metadata": {},
   "outputs": [
    {
     "name": "stdout",
     "output_type": "stream",
     "text": [
      "[[0 0 0]\n",
      " [0 0 0]]\n"
     ]
    }
   ],
   "source": [
    "import numpy as np\n",
    "ndo=np.zeros((2,3),dtype=int)\n",
    "print(ndo)"
   ]
  },
  {
   "cell_type": "code",
   "execution_count": null,
   "id": "6c585d02",
   "metadata": {},
   "outputs": [],
   "source": [
    "import numpy as np\n",
    "ndo=np.onces((3,3),dtype)"
   ]
  }
 ],
 "metadata": {
  "kernelspec": {
   "display_name": "Python 3 (ipykernel)",
   "language": "python",
   "name": "python3"
  },
  "language_info": {
   "codemirror_mode": {
    "name": "ipython",
    "version": 3
   },
   "file_extension": ".py",
   "mimetype": "text/x-python",
   "name": "python",
   "nbconvert_exporter": "python",
   "pygments_lexer": "ipython3",
   "version": "3.11.4"
  }
 },
 "nbformat": 4,
 "nbformat_minor": 5
}
